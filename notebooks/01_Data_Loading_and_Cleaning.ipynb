{
 "cells": [
  {
   "cell_type": "code",
   "execution_count": 1,
   "id": "e36f8cb5",
   "metadata": {},
   "outputs": [],
   "source": [
    "#Librerias \n",
    "import pandas as pd\n",
    "import numpy as np\n",
    "import os\n",
    "import re"
   ]
  },
  {
   "cell_type": "code",
   "execution_count": null,
   "id": "2cfbeff8",
   "metadata": {},
   "outputs": [
    {
     "name": "stdout",
     "output_type": "stream",
     "text": [
      "Ruta al archivo RAW: h:\\git\\Analisis-de_consumo_Netflix\\Analisis-de_consumo_Netflix\\data\\raw\\NetflixViewingHistory.csv\n",
      "Ruta al archivo Intermedio (opcional): h:\\git\\Analisis-de_consumo_Netflix\\Analisis-de_consumo_Netflix\\data\\interim\\netflix_history_cleaned.csv\n"
     ]
    }
   ],
   "source": [
    "# --- Constantes y Parámetros ---\n",
    "# Establece el formato de fecha esperado en los datos (mes/día/año)\n",
    "EXPECTED_DATE_FORMAT = '%m/%d/%y' \n",
    "\n",
    "# --- Rutas de Archivos ---\n",
    "notebook_dir = os.getcwd()\n",
    "project_root = os.path.dirname(notebook_dir) \n",
    "\n",
    "# Ruta al archivo RAW\n",
    "raw_data_path = os.path.join(project_root, 'data', 'raw', 'NetflixViewingHistory.csv')\n",
    "# Ruta opcional para guardar el archivo limpiado intermedio\n",
    "interim_data_path = os.path.join(project_root, 'data', 'interim', 'netflix_history_cleaned.csv')\n",
    "\n",
    "print(f\"Ruta al archivo RAW: {raw_data_path}\")\n",
    "print(f\"Ruta al archivo Intermedio (opcional): {interim_data_path}\")"
   ]
  },
  {
   "cell_type": "code",
   "execution_count": 3,
   "id": "87b10e16",
   "metadata": {},
   "outputs": [
    {
     "name": "stdout",
     "output_type": "stream",
     "text": [
      "Cargando datos desde: h:\\git\\Analisis-de_consumo_Netflix\\Analisis-de_consumo_Netflix\\data\\raw\\NetflixViewingHistory.csv\n",
      "Datos crudos cargados: 1875 filas, 2 columnas.\n",
      "\n",
      "--- Primeras filas de los datos crudos ---\n"
     ]
    },
    {
     "data": {
      "text/html": [
       "<div>\n",
       "<style scoped>\n",
       "    .dataframe tbody tr th:only-of-type {\n",
       "        vertical-align: middle;\n",
       "    }\n",
       "\n",
       "    .dataframe tbody tr th {\n",
       "        vertical-align: top;\n",
       "    }\n",
       "\n",
       "    .dataframe thead th {\n",
       "        text-align: right;\n",
       "    }\n",
       "</style>\n",
       "<table border=\"1\" class=\"dataframe\">\n",
       "  <thead>\n",
       "    <tr style=\"text-align: right;\">\n",
       "      <th></th>\n",
       "      <th>Title</th>\n",
       "      <th>Date</th>\n",
       "    </tr>\n",
       "  </thead>\n",
       "  <tbody>\n",
       "    <tr>\n",
       "      <th>0</th>\n",
       "      <td>La casa de papel: Parte 5: La teoría de la ele...</td>\n",
       "      <td>5/5/25</td>\n",
       "    </tr>\n",
       "    <tr>\n",
       "      <th>1</th>\n",
       "      <td>La casa de papel: Parte 5: Ciencia ilusionada</td>\n",
       "      <td>5/5/25</td>\n",
       "    </tr>\n",
       "    <tr>\n",
       "      <th>2</th>\n",
       "      <td>La casa de papel: Parte 5: Válvulas de escape</td>\n",
       "      <td>5/5/25</td>\n",
       "    </tr>\n",
       "    <tr>\n",
       "      <th>3</th>\n",
       "      <td>La casa de papel: Parte 5: Vivir muchas vidas</td>\n",
       "      <td>5/5/25</td>\n",
       "    </tr>\n",
       "    <tr>\n",
       "      <th>4</th>\n",
       "      <td>La casa de papel: Parte 5: Tu sitio en el cielo</td>\n",
       "      <td>5/5/25</td>\n",
       "    </tr>\n",
       "  </tbody>\n",
       "</table>\n",
       "</div>"
      ],
      "text/plain": [
       "                                               Title    Date\n",
       "0  La casa de papel: Parte 5: La teoría de la ele...  5/5/25\n",
       "1      La casa de papel: Parte 5: Ciencia ilusionada  5/5/25\n",
       "2      La casa de papel: Parte 5: Válvulas de escape  5/5/25\n",
       "3      La casa de papel: Parte 5: Vivir muchas vidas  5/5/25\n",
       "4    La casa de papel: Parte 5: Tu sitio en el cielo  5/5/25"
      ]
     },
     "metadata": {},
     "output_type": "display_data"
    }
   ],
   "source": [
    "# --- Cargar Datos Crudos ---\n",
    "print(f\"Cargando datos desde: {raw_data_path}\")\n",
    "try:\n",
    "    df_raw = pd.read_csv(raw_data_path)\n",
    "    print(f\"Datos crudos cargados: {df_raw.shape[0]} filas, {df_raw.shape[1]} columnas.\")\n",
    "except FileNotFoundError:\n",
    "    print(f\"Error: No se encontró el archivo en {raw_data_path}. Verifica la ruta.\")\n",
    "    raise SystemExit(\"Archivo no encontrado.\")\n",
    "except Exception as e:\n",
    "    print(f\"Error al cargar el archivo CSV crudo: {e}\")\n",
    "    raise SystemExit(\"Error cargando CSV.\")\n",
    "\n",
    "# Crear una copia para trabajar y no modificar el original cargado\n",
    "df_clean = df_raw.copy()\n",
    "\n",
    "print(\"\\n--- Primeras filas de los datos crudos ---\")\n",
    "display(df_clean.head())"
   ]
  },
  {
   "cell_type": "code",
   "execution_count": null,
   "id": "468ecf64",
   "metadata": {},
   "outputs": [
    {
     "name": "stdout",
     "output_type": "stream",
     "text": [
      "\n",
      "--- Información General (Tipos de Dato y Nulos Iniciales) ---\n",
      "<class 'pandas.core.frame.DataFrame'>\n",
      "RangeIndex: 1875 entries, 0 to 1874\n",
      "Data columns (total 2 columns):\n",
      " #   Column  Non-Null Count  Dtype \n",
      "---  ------  --------------  ----- \n",
      " 0   Title   1874 non-null   object\n",
      " 1   Date    1875 non-null   object\n",
      "dtypes: object(2)\n",
      "memory usage: 29.4+ KB\n",
      "\n",
      "--- Conteo de Valores Nulos por Columna ---\n",
      "Title    1\n",
      "Date     0\n",
      "dtype: int64\n"
     ]
    }
   ],
   "source": [
    "# --- Inspección Inicial ---\n",
    "print(\"\\n--- Información General (Tipos de Dato y Nulos Iniciales) ---\")\n",
    "df_clean.info()\n",
    "\n",
    "print(\"\\n--- Conteo de Valores Nulos por Columna ---\")\n",
    "print(df_clean.isnull().sum())\n",
    "\n",
    "# Verificar si las columnas esperadas existen\n",
    "required_columns = ['Title', 'Date']\n",
    "if not all(col in df_clean.columns for col in required_columns):\n",
    "    print(f\"\\n¡Advertencia! Faltan columnas requeridas. Se esperaban: {required_columns}. Columnas encontradas: {df_clean.columns.tolist()}\")\n",
    "  "
   ]
  },
  {
   "cell_type": "code",
   "execution_count": 5,
   "id": "e93d36b3",
   "metadata": {},
   "outputs": [
    {
     "name": "stdout",
     "output_type": "stream",
     "text": [
      "\n",
      "--- Limpiando filas con Nulos en 'Title' o 'Date' ---\n",
      "Filas eliminadas por nulos en Title/Date: 1\n",
      "Filas restantes: 1874\n",
      "\n",
      "--- Convirtiendo 'Date' a formato datetime (Esperado: %m/%d/%y) ---\n",
      "Todas las fechas fueron convertidas exitosamente.\n",
      "\n",
      "--- Información después de limpieza básica ---\n",
      "<class 'pandas.core.frame.DataFrame'>\n",
      "Index: 1874 entries, 0 to 1874\n",
      "Data columns (total 2 columns):\n",
      " #   Column  Non-Null Count  Dtype         \n",
      "---  ------  --------------  -----         \n",
      " 0   Title   1874 non-null   object        \n",
      " 1   Date    1874 non-null   datetime64[ns]\n",
      "dtypes: datetime64[ns](1), object(1)\n",
      "memory usage: 43.9+ KB\n",
      "\n",
      "--- Nulos después de limpieza básica ---\n",
      "Title    0\n",
      "Date     0\n",
      "dtype: int64\n"
     ]
    }
   ],
   "source": [
    "# --- Limpieza Básica ---\n",
    "\n",
    "print(\"\\n--- Limpiando filas con Nulos en 'Title' o 'Date' ---\")\n",
    "rows_before = len(df_clean)\n",
    "df_clean.dropna(subset=['Title', 'Date'], inplace=True)\n",
    "rows_after = len(df_clean)\n",
    "print(f\"Filas eliminadas por nulos en Title/Date: {rows_before - rows_after}\")\n",
    "print(f\"Filas restantes: {rows_after}\")\n",
    "\n",
    "print(f\"\\n--- Convirtiendo 'Date' a formato datetime (Esperado: {EXPECTED_DATE_FORMAT}) ---\")\n",
    "try:\n",
    "    # Intentar convertir usando el formato especificado\n",
    "    df_clean['Date'] = pd.to_datetime(df_clean['Date'], format=EXPECTED_DATE_FORMAT, errors='coerce')\n",
    "    \n",
    "    # Verificar cuántas fechas fallaron en la conversión (se vuelven NaT)\n",
    "    nat_count = df_clean['Date'].isnull().sum()\n",
    "    if nat_count > 0:\n",
    "        print(f\"¡Advertencia! {nat_count} fechas no pudieron ser parseadas con el formato '{EXPECTED_DATE_FORMAT}' y se convirtieron a NaT (Not a Time).\")\n",
    "        # Opcional: Mostrar algunas filas con fechas problemáticas\n",
    "        # display(df_raw.loc[df_clean['Date'].isnull()]) # Muestra las filas originales donde la fecha falló\n",
    "        \n",
    "        # Eliminar filas donde la fecha es NaT\n",
    "        rows_before_nat_drop = len(df_clean)\n",
    "        df_clean.dropna(subset=['Date'], inplace=True)\n",
    "        print(f\"Filas eliminadas debido a fechas inválidas (NaT): {rows_before_nat_drop - len(df_clean)}\")\n",
    "        print(f\"Filas restantes después de limpieza de fechas: {len(df_clean)}\")\n",
    "    else:\n",
    "        print(\"Todas las fechas fueron convertidas exitosamente.\")\n",
    "        \n",
    "except ValueError as ve:\n",
    "    print(f\"\\n¡Error! El formato de fecha '{EXPECTED_DATE_FORMAT}' parece incorrecto para tus datos.\")\n",
    "    print(f\"Error específico: {ve}\")\n",
    "    print(\"Revisa la constante EXPECTED_DATE_FORMAT en la Celda 1 y el contenido de la columna 'Date' en tu CSV.\")\n",
    "    # Podrías querer detener la ejecución aquí o continuar sin la conversión de fecha correcta.\n",
    "except Exception as e:\n",
    "    print(f\"Error inesperado durante la conversión de fechas: {e}\")\n",
    "\n",
    "\n",
    "print(\"\\n--- Información después de limpieza básica ---\")\n",
    "df_clean.info()\n",
    "print(\"\\n--- Nulos después de limpieza básica ---\")\n",
    "print(df_clean.isnull().sum())"
   ]
  },
  {
   "cell_type": "code",
   "execution_count": null,
   "id": "7cf07bf2",
   "metadata": {},
   "outputs": [],
   "source": []
  }
 ],
 "metadata": {
  "kernelspec": {
   "display_name": "venv_netflix",
   "language": "python",
   "name": "python3"
  },
  "language_info": {
   "codemirror_mode": {
    "name": "ipython",
    "version": 3
   },
   "file_extension": ".py",
   "mimetype": "text/x-python",
   "name": "python",
   "nbconvert_exporter": "python",
   "pygments_lexer": "ipython3",
   "version": "3.13.1"
  }
 },
 "nbformat": 4,
 "nbformat_minor": 5
}
